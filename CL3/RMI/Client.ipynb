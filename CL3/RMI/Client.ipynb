{
 "cells": [
  {
   "cell_type": "code",
   "execution_count": null,
   "id": "9e65c61e",
   "metadata": {},
   "outputs": [],
   "source": [
    "# CLIENT CELL\n",
    "\n",
    "import Pyro4\n",
    "\n",
    "# Paste the URI from the server output\n",
    "uri = \"PYRO:obj_26f8411c05f5468d9b05ee4c828fdf63@localhost:50544\"  # Replace with your actual URI\n",
    "\n",
    "proxy = Pyro4.Proxy(uri)\n",
    "\n",
    "str1 = input(\"Enter first string: \")\n",
    "str2 = input(\"Enter second string: \")\n",
    "\n",
    "result = proxy.concatenate(str1, str2)\n",
    "print(\"Concatenated result:\", result)\n"
   ]
  },
  {
   "cell_type": "code",
   "execution_count": null,
   "id": "92917c24",
   "metadata": {},
   "outputs": [],
   "source": []
  }
 ],
 "metadata": {
  "kernelspec": {
   "display_name": "Python 3 (ipykernel)",
   "language": "python",
   "name": "python3"
  },
  "language_info": {
   "codemirror_mode": {
    "name": "ipython",
    "version": 3
   },
   "file_extension": ".py",
   "mimetype": "text/x-python",
   "name": "python",
   "nbconvert_exporter": "python",
   "pygments_lexer": "ipython3",
   "version": "3.11.5"
  }
 },
 "nbformat": 4,
 "nbformat_minor": 5
}

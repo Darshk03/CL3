{
 "cells": [
  {
   "cell_type": "code",
   "execution_count": null,
   "id": "944ced32",
   "metadata": {
    "scrolled": true
   },
   "outputs": [],
   "source": [
    "pip install Pyro4"
   ]
  },
  {
   "cell_type": "code",
   "execution_count": null,
   "id": "8af1ca4d",
   "metadata": {},
   "outputs": [],
   "source": [
    "\n"
   ]
  },
  {
   "cell_type": "code",
   "execution_count": null,
   "id": "202575fb",
   "metadata": {},
   "outputs": [],
   "source": [
    "# SERVER CELL\n",
    "\n",
    "import Pyro4\n",
    "import threading\n",
    "\n",
    "@Pyro4.expose\n",
    "class StringConcatenator:\n",
    "    def concatenate(self, str1, str2):\n",
    "        print(f\"Received: {str1}, {str2}\")\n",
    "        return str1 + str2\n",
    "\n",
    "def start_server():\n",
    "    daemon = Pyro4.Daemon(host=\"localhost\")  # Bind to localhost\n",
    "    uri = daemon.register(StringConcatenator)\n",
    "    print(\"Server running. URI:\", uri)\n",
    "    \n",
    "    # Run the server loop in a separate thread\n",
    "    daemon.requestLoop()\n",
    "\n",
    "# Run the server in a background thread\n",
    "thread = threading.Thread(target=start_server)\n",
    "thread.daemon = True\n",
    "thread.start()\n"
   ]
  },
  {
   "cell_type": "code",
   "execution_count": null,
   "id": "d44dac89",
   "metadata": {},
   "outputs": [],
   "source": []
  },
  {
   "cell_type": "code",
   "execution_count": null,
   "id": "0c504cc0",
   "metadata": {},
   "outputs": [],
   "source": []
  }
 ],
 "metadata": {
  "kernelspec": {
   "display_name": "Python 3 (ipykernel)",
   "language": "python",
   "name": "python3"
  },
  "language_info": {
   "codemirror_mode": {
    "name": "ipython",
    "version": 3
   },
   "file_extension": ".py",
   "mimetype": "text/x-python",
   "name": "python",
   "nbconvert_exporter": "python",
   "pygments_lexer": "ipython3",
   "version": "3.11.5"
  }
 },
 "nbformat": 4,
 "nbformat_minor": 5
}

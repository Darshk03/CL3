{
 "cells": [
  {
   "cell_type": "code",
   "execution_count": 1,
   "id": "e39630c4",
   "metadata": {},
   "outputs": [
    {
     "name": "stdout",
     "output_type": "stream",
     "text": [
      "\n",
      "Best Tour Found:\n",
      "0 -> 2 -> 4 -> 3 -> 1 -> 0\n",
      "Total Distance: 22.35\n"
     ]
    }
   ],
   "source": [
    "import random, math\n",
    "\n",
    "# City coordinates\n",
    "cities = {0: (0, 0), 1: (1, 5), 2: (5, 2), 3: (6, 6), 4: (8, 3)}\n",
    "\n",
    "# Distance and pheromone initialization\n",
    "distance = {(i, j): math.dist(cities[i], cities[j]) for i in cities for j in cities if i != j}\n",
    "pheromone = {edge: 1.0 for edge in distance}\n",
    "\n",
    "# Parameters\n",
    "num_ants, num_iters = 10, 100\n",
    "alpha, beta = 1.0, 5.0\n",
    "evaporation, Q = 0.5, 100\n",
    "best_path, best_length = None, float(\"inf\")\n",
    "\n",
    "# Choose next city based on probability\n",
    "def choose_next(curr, visited):\n",
    "    probs = [(c, (pheromone[(curr, c)] ** alpha) * ((1 / distance[(curr, c)]) ** beta))\n",
    "             for c in cities if c not in visited]\n",
    "    total = sum(p for _, p in probs)\n",
    "    r = random.uniform(0, total)\n",
    "    s = 0\n",
    "    for city, prob in probs:\n",
    "        s += prob\n",
    "        if r <= s: return city\n",
    "    return probs[-1][0]  # fallback\n",
    "\n",
    "# Build a complete tour\n",
    "def build_tour():\n",
    "    path = [random.choice(list(cities))]\n",
    "    visited = set(path)\n",
    "    while len(path) < len(cities):\n",
    "        next_city = choose_next(path[-1], visited)\n",
    "        path.append(next_city)\n",
    "        visited.add(next_city)\n",
    "    return path + [path[0]]  # return to start\n",
    "\n",
    "# Main ACO loop\n",
    "for _ in range(num_iters):\n",
    "    all_tours = []\n",
    "    for _ in range(num_ants):\n",
    "        t = build_tour()\n",
    "        l = sum(distance[(t[i], t[i+1])] for i in range(len(t)-1))\n",
    "        all_tours.append((t, l))\n",
    "        if l < best_length: best_path, best_length = t, l\n",
    "    for edge in pheromone: pheromone[edge] *= (1 - evaporation)\n",
    "    for path, length in all_tours:\n",
    "        for i in range(len(path) - 1):\n",
    "            a, b = path[i], path[i+1]\n",
    "            pheromone[(a, b)] += Q / length\n",
    "            pheromone[(b, a)] += Q / length  # undirected\n",
    "\n",
    "# Output result\n",
    "print(\"\\nBest Tour Found:\")\n",
    "print(\" -> \".join(map(str, best_path)))\n",
    "print(f\"Total Distance: {best_length:.2f}\")\n"
   ]
  },
  {
   "cell_type": "code",
   "execution_count": 2,
   "id": "12be4d1a",
   "metadata": {},
   "outputs": [
    {
     "name": "stdout",
     "output_type": "stream",
     "text": [
      "\n",
      "Best Tour Found:\n",
      "0 -> 2 -> 4 -> 3 -> 1 -> 0\n",
      "Total Distance: 22.35\n"
     ]
    }
   ],
   "source": [
    "import random, math\n",
    "\n",
    "cities = {0: (0, 0), 1: (1, 5), 2: (5, 2), 3: (6, 6), 4: (8, 3)}\n",
    "dist = {(i, j): math.dist(cities[i], cities[j]) for i in cities for j in cities if i != j}\n",
    "pher = {edge: 1.0 for edge in dist}\n",
    "\n",
    "\n",
    "ants, iters, alpha, beta, evap, Q = 10, 100, 1.0, 5.0, 0.5, 100\n",
    "best_tour, best_len = None, float(\"inf\")\n",
    "\n",
    "def choose(city, visited):\n",
    "    probs = [(c, (pher[(city, c)] ** alpha) * ((1 / dist[(city, c)]) ** beta))\n",
    "             for c in cities if c not in visited]\n",
    "    total = sum(p for _, p in probs)\n",
    "    r, cum = random.uniform(0, total), 0\n",
    "    for c, p in probs:\n",
    "        cum += p\n",
    "        if r <= cum: return c\n",
    "    return probs[-1][0]\n",
    "\n",
    "def tour():\n",
    "    path = [random.choice(list(cities))]\n",
    "    visited = set(path)\n",
    "    while len(path) < len(cities):\n",
    "        path.append(choose(path[-1], visited))\n",
    "        visited.add(path[-1])\n",
    "    return path + [path[0]]\n",
    "\n",
    "for _ in range(iters):\n",
    "    tours = [(t := tour(), sum(dist[(t[i], t[i+1])] for i in range(len(t)-1))) for _ in range(ants)]\n",
    "    for t, l in tours:\n",
    "        if l < best_len: best_tour, best_len = t, l\n",
    "    for e in pher: pher[e] *= (1 - evap)\n",
    "    for t, l in tours:\n",
    "        for i in range(len(t)-1):\n",
    "            a, b = t[i], t[i+1]\n",
    "            pher[(a, b)] += Q / l\n",
    "            pher[(b, a)] += Q / l\n",
    "\n",
    "print(\"\\nBest Tour Found:\")\n",
    "print(\" -> \".join(map(str, best_tour)))\n",
    "print(f\"Total Distance: {best_len:.2f}\")\n"
   ]
  },
  {
   "cell_type": "code",
   "execution_count": null,
   "id": "66a2d4e8",
   "metadata": {},
   "outputs": [],
   "source": []
  }
 ],
 "metadata": {
  "kernelspec": {
   "display_name": "Python 3 (ipykernel)",
   "language": "python",
   "name": "python3"
  },
  "language_info": {
   "codemirror_mode": {
    "name": "ipython",
    "version": 3
   },
   "file_extension": ".py",
   "mimetype": "text/x-python",
   "name": "python",
   "nbconvert_exporter": "python",
   "pygments_lexer": "ipython3",
   "version": "3.11.5"
  }
 },
 "nbformat": 4,
 "nbformat_minor": 5
}

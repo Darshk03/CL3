{
 "cells": [
  {
   "cell_type": "raw",
   "id": "0a15d114-be13-4480-896f-2ee4a6f31e94",
   "metadata": {},
   "source": [
    "def create_server(name, weight):\n",
    "    return {\"name\": name, \"weight\": weight}\n",
    "\n",
    "def create_load_balancer(servers):\n",
    "    weighted_servers = []\n",
    "    for server in servers:\n",
    "        weighted_servers.extend([server] * server[\"weight\"])\n",
    "    return {\"servers\": weighted_servers, \"current_index\": 0}\n",
    "\n",
    "def add_server(load_balancer, server):\n",
    "    load_balancer[\"servers\"].extend([server] * server[\"weight\"])\n",
    "\n",
    "def get_next_server(load_balancer):\n",
    "    next_server = load_balancer[\"servers\"][load_balancer[\"current_index\"]]\n",
    "    load_balancer[\"current_index\"] = (load_balancer[\"current_index\"] + 1) % len(load_balancer[\"servers\"])\n",
    "    return next_server\n",
    "\n",
    "def prompt_server_info(index):\n",
    "    name = input(f\"Enter the name of server {index}: \")\n",
    "    weight = int(input(f\"Enter the weight of server {index}: \"))\n",
    "    return create_server(name, weight)\n",
    "\n",
    "def assign_load(load_balancer, i):\n",
    "    next_server = get_next_server(load_balancer)\n",
    "    print(f\"Load {i} assigned to server: {next_server['name']}\")\n",
    "\n",
    "if __name__ == \"__main__\":\n",
    "    servers = []\n",
    "    num_servers = int(input(\"Enter the number of servers: \"))\n",
    "    for i in range(1, num_servers + 1):\n",
    "        servers.append(prompt_server_info(i))\n",
    "    lb = create_load_balancer(servers)\n",
    "    \n",
    "    num_loads = int(input(\"Enter the number of loads: \"))\n",
    "    print(\"\\nLoad balancing result:\")\n",
    "    for i in range(1, num_loads + 1):\n",
    "        assign_load(lb, i)"
   ]
  },
  {
   "cell_type": "code",
   "execution_count": null,
   "id": "8bc0c97b-df72-4236-9109-0b7a1de07c8b",
   "metadata": {},
   "outputs": [],
   "source": []
  }
 ],
 "metadata": {
  "kernelspec": {
   "display_name": "Python 3 (ipykernel)",
   "language": "python",
   "name": "python3"
  },
  "language_info": {
   "codemirror_mode": {
    "name": "ipython",
    "version": 3
   },
   "file_extension": ".py",
   "mimetype": "text/x-python",
   "name": "python",
   "nbconvert_exporter": "python",
   "pygments_lexer": "ipython3",
   "version": "3.10.10"
  }
 },
 "nbformat": 4,
 "nbformat_minor": 5
}

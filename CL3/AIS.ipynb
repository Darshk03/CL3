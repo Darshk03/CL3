{
 "cells": [
  {
   "cell_type": "markdown",
   "id": "ab312b8b",
   "metadata": {},
   "source": [
    "#### To apply the artificial immune pattern recognition to perform a task of structure damage Classification. "
   ]
  },
  {
   "cell_type": "code",
   "execution_count": 4,
   "id": "f39e1024",
   "metadata": {},
   "outputs": [
    {
     "name": "stdout",
     "output_type": "stream",
     "text": [
      "Accuracy: 0.90\n"
     ]
    }
   ],
   "source": [
    "#MK CODE\n",
    "\n",
    "import numpy as np\n",
    "from sklearn.preprocessing import StandardScaler\n",
    "from scipy.stats import mode\n",
    "from sklearn.datasets import make_classification\n",
    "\n",
    "\n",
    "data, labels = make_classification(n_samples=100, n_features=10, \n",
    "                                    n_informative=5, n_redundant=0, \n",
    "                                    n_clusters_per_class=1, random_state=42)\n",
    "\n",
    "# Split data\n",
    "split = int(0.8 * len(data))\n",
    "X_train, X_test = data[:split], data[split:]\n",
    "y_train, y_test = labels[:split], labels[split:]\n",
    "\n",
    "# Normalize\n",
    "scaler = StandardScaler()\n",
    "X_train = scaler.fit_transform(X_train)\n",
    "X_test = scaler.transform(X_test)\n",
    "\n",
    "# Select detectors\n",
    "idx = np.random.choice(len(X_train), 30, replace=False)\n",
    "detectors = X_train[idx]\n",
    "detector_labels = y_train[idx]\n",
    "\n",
    "# Predict using k-nearest (k=3)\n",
    "predictions = []\n",
    "for x in X_test:\n",
    "    dists = np.linalg.norm(detectors - x, axis=1)\n",
    "    k_idx = np.argsort(dists)[:3]\n",
    "    k_labels = detector_labels[k_idx]\n",
    "    predictions.append(mode(k_labels, keepdims=True)[0][0])\n",
    "\n",
    "# Accuracy\n",
    "acc = np.mean(predictions == y_test)\n",
    "print(f\"Accuracy: {acc:.2f}\")\n"
   ]
  },
  {
   "cell_type": "code",
   "execution_count": 9,
   "id": "8a81483f",
   "metadata": {},
   "outputs": [
    {
     "name": "stdout",
     "output_type": "stream",
     "text": [
      "Accuracy: 0.55\n"
     ]
    }
   ],
   "source": [
    "import numpy as np\n",
    "\n",
    "# Generate data\n",
    "data = np.random.rand(100, 10)\n",
    "labels = np.random.randint(0, 2, 100)\n",
    "\n",
    "# Split data\n",
    "split = int(0.8 * len(data))\n",
    "X_train, X_test = data[:split], data[split:]\n",
    "y_train, y_test = labels[:split], labels[split:]\n",
    "\n",
    "# Select random detectors\n",
    "idx = np.random.choice(len(X_train), 10, replace=False)\n",
    "detectors = X_train[idx]\n",
    "detector_labels = y_train[idx]\n",
    "\n",
    "# Predict using nearest detector\n",
    "predictions = []\n",
    "for x in X_test:\n",
    "    i = np.argmin(np.linalg.norm(detectors - x, axis=1))\n",
    "    predictions.append(detector_labels[i])\n",
    "\n",
    "# Accuracy\n",
    "acc = np.mean(predictions == y_test)\n",
    "print(f\"Accuracy: {acc:.2f}\")\n"
   ]
  },
  {
   "cell_type": "code",
   "execution_count": 10,
   "id": "1f8982e1",
   "metadata": {},
   "outputs": [
    {
     "name": "stdout",
     "output_type": "stream",
     "text": [
      "Clonal Selection AIS Accuracy: 0.45\n"
     ]
    }
   ],
   "source": [
    "#MAM's CODE \n",
    "\n",
    "import numpy as np\n",
    "\n",
    "# Generate synthetic data\n",
    "data = np.random.rand(100, 10)\n",
    "labels = np.random.randint(0, 2, 100)\n",
    "split = int(0.8 * len(data))\n",
    "X_train, X_test = data[:split], data[split:]\n",
    "y_train, y_test = labels[:split], labels[split:]\n",
    "\n",
    "# Initialize random detectors\n",
    "num_detectors = 10\n",
    "detectors = np.random.rand(num_detectors, 10)\n",
    "detector_labels = np.zeros(num_detectors)\n",
    "\n",
    "# Clonal selection: evolve detectors\n",
    "for i in range(100):  # generations\n",
    "    for j in range(num_detectors):\n",
    "        d = detectors[j]\n",
    "        distances = np.linalg.norm(X_train - d, axis=1)\n",
    "        nearest = np.argmin(distances)\n",
    "        detectors[j] = detectors[j] + 0.1 * (X_train[nearest] - detectors[j])\n",
    "        detector_labels[j] = y_train[nearest]\n",
    "\n",
    "# Predict\n",
    "predictions = []\n",
    "for x in X_test:\n",
    "    i = np.argmin(np.linalg.norm(detectors - x, axis=1))\n",
    "    predictions.append(detector_labels[i])\n",
    "\n",
    "# Accuracy\n",
    "acc = np.mean(predictions == y_test)\n",
    "print(f\"Clonal Selection AIS Accuracy: {acc:.2f}\")\n"
   ]
  },
  {
   "cell_type": "code",
   "execution_count": null,
   "id": "1eae6a34",
   "metadata": {},
   "outputs": [],
   "source": []
  },
  {
   "cell_type": "code",
   "execution_count": null,
   "id": "322736d0",
   "metadata": {},
   "outputs": [],
   "source": []
  }
 ],
 "metadata": {
  "kernelspec": {
   "display_name": "Python 3 (ipykernel)",
   "language": "python",
   "name": "python3"
  },
  "language_info": {
   "codemirror_mode": {
    "name": "ipython",
    "version": 3
   },
   "file_extension": ".py",
   "mimetype": "text/x-python",
   "name": "python",
   "nbconvert_exporter": "python",
   "pygments_lexer": "ipython3",
   "version": "3.11.5"
  }
 },
 "nbformat": 4,
 "nbformat_minor": 5
}

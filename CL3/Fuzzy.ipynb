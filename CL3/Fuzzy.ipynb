{
 "cells": [
  {
   "cell_type": "code",
   "execution_count": 3,
   "id": "92197a29",
   "metadata": {},
   "outputs": [
    {
     "name": "stdout",
     "output_type": "stream",
     "text": [
      "Union of A and B: {'x': 0.6, 'y': 0.8}\n",
      "Intersection of A and B: {'x': 0.4, 'y': 0.5}\n",
      "Complement of A: {'x': 0.4, 'y': 0.19999999999999996}\n",
      "Difference of A and B: {'x': 0.6, 'y': 0.5}\n",
      "Cartesian Product of A and B (R1): {('x', 'x'): 0.4, ('x', 'y'): 0.5, ('y', 'x'): 0.4, ('y', 'y'): 0.5}\n",
      "Cartesian Product of B and A (R2): {('x', 'x'): 0.4, ('x', 'y'): 0.4, ('y', 'x'): 0.5, ('y', 'y'): 0.5}\n",
      "Max-Min Composition of R1 and R2: {('x', 'x'): 0.5, ('x', 'y'): 0.5, ('y', 'x'): 0.5, ('y', 'y'): 0.5}\n"
     ]
    }
   ],
   "source": [
    "\n",
    "A = {'x': 0.6, 'y': 0.8}\n",
    "B = {'x': 0.4, 'y': 0.5}\n",
    "\n",
    "union = {}\n",
    "for key in A:\n",
    "    union[key] = max(A[key], B[key])\n",
    "\n",
    "print(\"Union of A and B:\", union)\n",
    "\n",
    "intersection = {}\n",
    "for key in A:\n",
    "    intersection[key] = min(A[key], B[key])\n",
    "\n",
    "print(\"Intersection of A and B:\", intersection)\n",
    "\n",
    "complement_A = {}\n",
    "for key in A:\n",
    "    complement_A[key] = 1 - A[key]\n",
    "\n",
    "print(\"Complement of A:\", complement_A)\n",
    "\n",
    "difference = {}\n",
    "for key in A:\n",
    "    difference[key] = min(A[key], 1 - B[key])\n",
    "\n",
    "print(\"Difference of A and B:\", difference)\n",
    "\n",
    "\n",
    "R1 = {}\n",
    "for a in A:\n",
    "    for b in B:\n",
    "        R1[(a, b)] = min(A[a], B[b])\n",
    "\n",
    "print(\"Cartesian Product of A and B (R1):\", R1)\n",
    "\n",
    "\n",
    "R2 = {}\n",
    "for b in B:\n",
    "    for a in A:\n",
    "        R2[(b, a)] = min(B[b], A[a])\n",
    "\n",
    "print(\"Cartesian Product of B and A (R2):\", R2)\n",
    "\n",
    "\n",
    "composition = {}\n",
    "for (a, b) in R1:\n",
    "    for (b2, c) in R2:\n",
    "        if b == b2: \n",
    "            key = (a, c)\n",
    "            composition[key] = max(composition.get(key, 0), min(R1[(a, b)], R2[(b2, c)]))\n",
    "\n",
    "print(\"Max-Min Composition of R1 and R2:\", composition)\n",
    "\n"
   ]
  },
  {
   "cell_type": "code",
   "execution_count": null,
   "id": "10591f98",
   "metadata": {},
   "outputs": [],
   "source": []
  }
 ],
 "metadata": {
  "kernelspec": {
   "display_name": "Python 3 (ipykernel)",
   "language": "python",
   "name": "python3"
  },
  "language_info": {
   "codemirror_mode": {
    "name": "ipython",
    "version": 3
   },
   "file_extension": ".py",
   "mimetype": "text/x-python",
   "name": "python",
   "nbconvert_exporter": "python",
   "pygments_lexer": "ipython3",
   "version": "3.11.5"
  }
 },
 "nbformat": 4,
 "nbformat_minor": 5
}
